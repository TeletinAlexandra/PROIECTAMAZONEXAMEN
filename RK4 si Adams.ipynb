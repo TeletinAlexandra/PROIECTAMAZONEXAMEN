{
 "cells": [
  {
   "cell_type": "code",
   "execution_count": 3,
   "id": "hawaiian-zimbabwe",
   "metadata": {},
   "outputs": [],
   "source": [
    "from numpy import *\n",
    "from matplotlib.pyplot import *\n",
    "from matplotlib.patches import Patch"
   ]
  },
  {
   "cell_type": "code",
   "execution_count": 4,
   "id": "frozen-mayor",
   "metadata": {},
   "outputs": [],
   "source": [
    "# y’ = f(t,y), y(t0)=y0"
   ]
  },
  {
   "cell_type": "code",
   "execution_count": 5,
   "id": "tropical-costume",
   "metadata": {},
   "outputs": [],
   "source": [
    "def f(t,y):\n",
    "    return (t-3.2)*y + 8*t*exp((t-3.2)**2/2)*cos(4*t**2)"
   ]
  },
  {
   "cell_type": "code",
   "execution_count": 6,
   "id": "executed-globe",
   "metadata": {},
   "outputs": [],
   "source": [
    "def dfy(t,y):\n",
    "    return t-3.2"
   ]
  },
  {
   "cell_type": "code",
   "execution_count": 7,
   "id": "checked-professional",
   "metadata": {},
   "outputs": [],
   "source": [
    "# y’ = f(t,y), y(t0)=y0"
   ]
  },
  {
   "cell_type": "code",
   "execution_count": 9,
   "id": "cardiac-metro",
   "metadata": {},
   "outputs": [],
   "source": [
    "def sol(t,t0,y0):\n",
    "    C = y0*exp(-(t0-3.2)**2/2)-sin(4*t0**2)\n",
    "    return exp((t-3.2)**2/2)*(sin(4*t**2) + C)"
   ]
  },
  {
   "cell_type": "code",
   "execution_count": 10,
   "id": "essential-toilet",
   "metadata": {},
   "outputs": [],
   "source": [
    "#Runge-Kutta Metoda clasica in 4 pasi"
   ]
  },
  {
   "cell_type": "code",
   "execution_count": 11,
   "id": "capable-prairie",
   "metadata": {},
   "outputs": [],
   "source": [
    "def RK4(t0,tn,n,y0):\n",
    "    h = abs(tn-t0)/n\n",
    "    t = linspace(t0,tn,n+1)\n",
    "    y = zeros(n+1)\n",
    "    y[0] = y0\n",
    "    for i in range(0,n):\n",
    "        K1 = f(t[i],y[i])\n",
    "        K2 = f(t[i]+h/2,y[i]+K1*h/2)\n",
    "        K3 = f(t[i]+h/2,y[i]+K2*h/2)\n",
    "        K4 = f(t[i]+h,y[i]+K3*h)\n",
    "        y[i+1] = y[i] + h*(K1+2*K2+2*K3+K4)/6\n",
    "    return y"
   ]
  },
  {
   "cell_type": "code",
   "execution_count": 12,
   "id": "popular-survey",
   "metadata": {},
   "outputs": [],
   "source": [
    "#Adams-Bashforth in 3 pasi"
   ]
  },
  {
   "cell_type": "code",
   "execution_count": 13,
   "id": "novel-vaccine",
   "metadata": {},
   "outputs": [],
   "source": [
    "def AdBash3(t0,tn,n,y0):\n",
    "    h = abs(tn-t0)/n\n",
    "    t = linspace(t0,tn,n+1)\n",
    "    y = zeros(n+1)\n",
    "    y[0:3] = RK4(t0,t0+2*h,2,y0)\n",
    "    K1 = f(t[1],y[1])\n",
    "    K2 = f(t[0],y[0])\n",
    "    for i in range(2,n):\n",
    "        K3 = K2\n",
    "        K2 = K1\n",
    "        K1 = f(t[i],y[i])\n",
    "        y[i+1] = y[i] + h*(23*K1-16*K2+5*K3)/12\n",
    "        \n",
    "    return y"
   ]
  },
  {
   "cell_type": "code",
   "execution_count": 16,
   "id": "republican-astronomy",
   "metadata": {},
   "outputs": [
    {
     "data": {
      "text/plain": [
       "[<matplotlib.lines.Line2D at 0x7fbca1ec6ed0>]"
      ]
     },
     "execution_count": 16,
     "metadata": {},
     "output_type": "execute_result"
    },
    {
     "data": {
      "image/png": "[encoded data removed]",
      "text/plain": [
       "<Figure size 432x288 with 1 Axes>"
      ]
     },
     "metadata": {
      "needs_background": "light"
     },
     "output_type": "display_data"
    }
   ],
   "source": [
    "fg =1\n",
    "n = 300\n",
    "t0 = 0\n",
    "tn = 6\n",
    "y0 = .75\n",
    "t = linspace(t0,tn,n+1)\n",
    "ye = AdBash3(t0,tn,n,y0)\n",
    "figure(fg)\n",
    "plot(t,ye,'red',label='Adams-Bashforth 3')"
   ]
  },
  {
   "cell_type": "code",
   "execution_count": null,
   "id": "ongoing-remedy",
   "metadata": {},
   "outputs": [],
   "source": []
  }
 ],
 "metadata": {
  "kernelspec": {
   "display_name": "Python 3",
   "language": "python",
   "name": "python3"
  },
  "language_info": {
   "codemirror_mode": {
    "name": "ipython",
    "version": 3
   },
   "file_extension": ".py",
   "mimetype": "text/x-python",
   "name": "python",
   "nbconvert_exporter": "python",
   "pygments_lexer": "ipython3",
   "version": "3.7.8"
  }
 },
 "nbformat": 4,
 "nbformat_minor": 5
}
