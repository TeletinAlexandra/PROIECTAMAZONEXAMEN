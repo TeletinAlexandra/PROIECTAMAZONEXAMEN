{
 "cells": [
  {
   "cell_type": "markdown",
   "id": "composed-shannon",
   "metadata": {},
   "source": [
    "# Pendulul Dublu"
   ]
  },
  {
   "cell_type": "markdown",
   "id": "known-brass",
   "metadata": {},
   "source": [
    "Simularea Miscarii pendulului dublu utilizand Runge Kutta"
   ]
  },
  {
   "cell_type": "code",
   "execution_count": 1,
   "id": "attended-official",
   "metadata": {},
   "outputs": [],
   "source": [
    "import numpy as np\n",
    "import matplotlib.pyplot as plt\n",
    "from matplotlib import animation"
   ]
  },
  {
   "cell_type": "code",
   "execution_count": 2,
   "id": "floating-mirror",
   "metadata": {},
   "outputs": [],
   "source": [
    "#consideram cazul in care m1=m2 si l1=l2\n",
    "m1 = 1   #Masa primului corp 1\n",
    "m2 = 1    #Masa celui de-al doilea corp  \n",
    "g = 10 #Acceleratia gravitationala\n",
    "l1 = 1  #lungimea primei tije \n",
    "l2 = 1   #Lungimea celei de-a doua tije\n",
    "x = y = []"
   ]
  },
  {
   "cell_type": "markdown",
   "id": "fiscal-robertson",
   "metadata": {},
   "source": [
    "In continuare o sa definim functiile necesare in realizarea graficului miscarii"
   ]
  },
  {
   "cell_type": "code",
   "execution_count": 3,
   "id": "checked-lodging",
   "metadata": {},
   "outputs": [],
   "source": [
    "def angular_acc1(a1_arr,a2_arr):\n",
    "    \"\"\"Calculeaza acceleratia unghiulara pentru primului pendul\n",
    "          Inputs-> a1_arr: np.array([Unghiul initial, viteza unghiulara initiala]);\n",
    "                 a2_arr: np.array([Unghiul initial, viteza unghiulara initiala]);\"\"\"\n",
    "    num = -g *(2*m1+m2)*np.sin(a1_arr[0]) - m2*g*np.sin(a1_arr[0]-2*a2_arr[0])- 2* m2*np.sin(a1_arr[0]-a2_arr[0]) * (l2*pow(a2_arr[1],2)+l1*pow(a1_arr[1],2)*np.cos(a1_arr[0]-a2_arr[0]))\n",
    "    den = l1*(2*m1+m2-m2 * np.cos(2*a1_arr[0]-2*a2_arr[0]))\n",
    "    return num/den\n"
   ]
  },
  {
   "cell_type": "code",
   "execution_count": 4,
   "id": "threaded-referral",
   "metadata": {},
   "outputs": [],
   "source": [
    "def angular_acc2(a1_arr,a2_arr):\n",
    "    \"\"\"Calculeaza acceleratia unghiulara pentru al doilea pendul\n",
    "        Inputs-> a1_arr: np.array([Unghiul initial, viteza unghiulara initiala]);\n",
    "                 a2_arr: np.array([Unghiul initial, viteza unghiulara initiala]);\"\"\"\n",
    "    temp = (2*np.sin(a1_arr[0]-a2_arr[0])) \n",
    "    num = temp * (l1*pow(a1_arr[1],2)*(m1+m2)+g*(m1+m2)*np.cos(a1_arr[0])+l2*pow(a2_arr[1],2)*m2*np.cos(a1_arr[0]-a2_arr[0]))\n",
    "    den = l2*(2*m1+m2-m2 * np.cos(2*a1_arr[0]-2*a2_arr[0]))\n",
    "    return num/den"
   ]
  },
  {
   "cell_type": "code",
   "execution_count": 5,
   "id": "prerequisite-dryer",
   "metadata": {},
   "outputs": [],
   "source": [
    "def deriv_a1(a1_arr,a2_arr,t):\n",
    "    \"\"\"\n",
    "    Returneaza o matrice np.array([prima derivata, a doua derivata])\n",
    "    Inputs-> a1_arr: np.array([Unghiul initial, viteza unghiulara initiala]);\n",
    "                 a2_arr: np.array([Unghiul initial, viteza unghiulara initiala]);\n",
    "             t: variabila dependenta;\n",
    "    \"\"\"\n",
    "    return np.array([a1_arr[1],angular_acc1(a1_arr,a2_arr)])"
   ]
  },
  {
   "cell_type": "code",
   "execution_count": 6,
   "id": "developed-paris",
   "metadata": {},
   "outputs": [],
   "source": [
    "def deriv_a2(a2_arr,a1_arr,t):\n",
    "    return np.array([a2_arr[1],angular_acc2(a1_arr,a2_arr)])\n"
   ]
  },
  {
   "cell_type": "code",
   "execution_count": 7,
   "id": "aging-doctrine",
   "metadata": {},
   "outputs": [],
   "source": [
    "\n",
    "def rk4(deriv,func_i,func_i2, x_i,h):\n",
    "    \"\"\"\n",
    "    Implementam metoda RK4\n",
    "    Inputs-> deriv: o functie care ia 2 argumente;\n",
    "             func_i: functia care trebuie sa fie determinata;\n",
    "             func_i2: aceasta reprezinta un argument al functiei  func_i (deriv_a1 and deriv_a2);\n",
    "             x_i: variabila dependenta de func_i;\n",
    "             h: dimensiunea pasului pe care il facem;\n",
    "             \n",
    "    \"\"\"\n",
    "    k1 = deriv(func_i,func_i2,x_i)\n",
    "    k2 = deriv(func_i+h/2,func_i2,h*k1/2)\n",
    "    k3 = deriv(func_i+h/2,func_i2,h*k2/2)\n",
    "    k4 = deriv(func_i+h,func_i2,h*k3)\n",
    "    func = func_i + (1/6) * h * (k1 +2*k2+2*k3+k4)\n",
    "    x = x_i + h\n",
    "    return (x,func)"
   ]
  },
  {
   "cell_type": "code",
   "execution_count": 8,
   "id": "elect-brake",
   "metadata": {},
   "outputs": [],
   "source": [
    "#Conditiile initiale ([unghiul initial, viteza unghiulara initiala])\n",
    "a1_arr = np.array([np.pi/2,0])\n",
    "a2_arr = np.array([np.pi/2,1])\n",
    "t = 0 # timpul de start\n",
    "h = 0.001 # marimea pasului pentru metoda RK4\n",
    "steps_no = 1000 # numarul maxim de pasi pentru metoda RK4\n",
    "time_arr = np.array([t])\n",
    "func_array1 = np.array([a1_arr])\n",
    "func_array2 = np.array([a2_arr])"
   ]
  },
  {
   "cell_type": "code",
   "execution_count": 9,
   "id": "specified-albania",
   "metadata": {},
   "outputs": [],
   "source": [
    "for i in range(steps_no):\n",
    "    temp =a1_arr\n",
    "    (t,a1_arr) = rk4(deriv_a1,a1_arr,a2_arr,t,h)\n",
    "    t -=h \n",
    "    (t,a2_arr) = rk4(deriv_a2,a2_arr,temp,t,h)\n",
    "    time_arr2 = np.append(time_arr, t)\n",
    "    func_array1 = np.vstack((func_array1,np.array([a1_arr])))\n",
    "    func_array2 = np.vstack((func_array2,np.array([a2_arr])))"
   ]
  },
  {
   "cell_type": "code",
   "execution_count": 10,
   "id": "ambient-primary",
   "metadata": {},
   "outputs": [],
   "source": [
    "[pendulum1_theta, pendulum1_angular_speed] = func_array1.transpose()\n",
    "[pendulum2_theta, pendulum2_angular_speed] = func_array2.transpose()\n",
    "\n",
    "pendulum1_x = l1*np.sin(pendulum1_theta)\n",
    "pendulum1_y = - l1*np.cos(pendulum1_theta)\n",
    "\n",
    "pendulum2_x = l2*np.sin(pendulum2_theta) + pendulum1_x\n",
    "pendulum2_y = pendulum1_y - l2*np.cos(pendulum2_theta)"
   ]
  },
  {
   "cell_type": "code",
   "execution_count": 11,
   "id": "hazardous-dispute",
   "metadata": {},
   "outputs": [],
   "source": [
    "def init():\n",
    "    line.set_data([], [])\n",
    "    time_text.set_text('')\n",
    "    return line, time_text\n",
    "def animate(i):\n",
    "    x = [0, pendulum1_x[i], pendulum2_x[i]]\n",
    "    y = [0, pendulum1_y[i], pendulum2_y[i]]\n",
    "    \n",
    "    line.set_data(x,y)\n",
    "    return line, time_text"
   ]
  },
  {
   "cell_type": "code",
   "execution_count": 14,
   "id": "cooked-lawrence",
   "metadata": {},
   "outputs": [
    {
     "name": "stderr",
     "output_type": "stream",
     "text": [
      "MovieWriter ffmpeg unavailable; trying to use <class 'matplotlib.animation.PillowWriter'> instead.\n"
     ]
    },
    {
     "data": {
      "text/plain": [
       "<Figure size 432x288 with 0 Axes>"
      ]
     },
     "metadata": {},
     "output_type": "display_data"
    },
    {
     "data": {
      "image/png": "[encoded data removed]",
      "text/plain": [
       "<Figure size 432x288 with 1 Axes>"
      ]
     },
     "metadata": {
      "needs_background": "light"
     },
     "output_type": "display_data"
    }
   ],
   "source": [
    "\n",
    "fig = plt.figure()\n",
    "fig = plt.figure()\n",
    "ax = fig.add_subplot(111, autoscale_on=False, xlim=(-3.9, 3.9), ylim=(-2, 2))\n",
    "ax.set_xlabel('$x-Axis$',fontsize=12)\n",
    "ax.set_ylabel('$y-Axis$',fontsize=12)\n",
    "ax.set_title('Double pendulum simulation (RK4 method)',fontsize=14)\n",
    "ax.grid()\n",
    " \n",
    "line, = ax.plot([], [], 'o-',lw=3,color='mediumvioletred',markersize=15)\n",
    "time_template = 'time = %0.1fs'\n",
    "time_text = ax.text(0.05, 0.9, '', transform=ax.transAxes)\n",
    " \n",
    "ani = animation.FuncAnimation(fig, animate, np.arange(1, len(pendulum1_y)),\n",
    "                               interval=0, blit=True, init_func=init)\n",
    " \n",
    "ax.scatter(pendulum2_x, pendulum2_y,s=5, color='black',alpha=0.5)\n",
    "ani.save('double_pendulum_200.gif', fps=20, dpi =8)\n",
    "plt.show()"
   ]
  },
  {
   "cell_type": "code",
   "execution_count": null,
   "id": "fancy-arkansas",
   "metadata": {},
   "outputs": [],
   "source": []
  }
 ],
 "metadata": {
  "kernelspec": {
   "display_name": "Python 3",
   "language": "python",
   "name": "python3"
  },
  "language_info": {
   "codemirror_mode": {
    "name": "ipython",
    "version": 3
   },
   "file_extension": ".py",
   "mimetype": "text/x-python",
   "name": "python",
   "nbconvert_exporter": "python",
   "pygments_lexer": "ipython3",
   "version": "3.7.8"
  }
 },
 "nbformat": 4,
 "nbformat_minor": 5
}
